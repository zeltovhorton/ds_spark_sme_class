{
 "cells": [
  {
   "cell_type": "markdown",
   "metadata": {},
   "source": [
    "# Lab 5.2: Joins with Spark-Core"
   ]
  },
  {
   "cell_type": "markdown",
   "metadata": {},
   "source": [
    "Setup your spark Context:"
   ]
  },
  {
   "cell_type": "code",
   "execution_count": null,
   "metadata": {
    "collapsed": false
   },
   "outputs": [],
   "source": [
    "# Set up Spark Context\n",
    "from pyspark import SparkContext, SparkConf\n",
    "\n",
    "<YOUR CODE HERE>"
   ]
  },
  {
   "cell_type": "markdown",
   "metadata": {},
   "source": [
    "Load the crimes dataset and weather dataset into two RDDs.   \n",
    "* The weather file for year 2013 resides under weather/2013.csv (as before, only load the year 2013)\n",
    "* The crimes dataset file resides in crime_report/sf_crimes.csv. Use Python's csv.reader to read the text fields in the crimes dataset to avoid problems of commas inside a text field."
   ]
  },
  {
   "cell_type": "code",
   "execution_count": null,
   "metadata": {
    "collapsed": true
   },
   "outputs": [],
   "source": [
    "import pandas as pd\n",
    "from csv import reader\n",
    "\n",
    "# Weather dataset\n",
    "w_lines = <YOUR CODE HERE>\n",
    "weather = <YOUR CODE HERE>\n",
    "print \"%s weather readings\" % weather.count()\n",
    "\n",
    "# Crimes dataset\n",
    "c_lines = <YOUR CODE HERE>\n",
    "crimes = <YOUR CODE HERE>\n",
    "print \"%s crime events\" % crimes.count()"
   ]
  },
  {
   "cell_type": "markdown",
   "metadata": {},
   "source": [
    "Print the RDD lineage graph of \"crimes\" and \"weather\" using toDebugString()"
   ]
  },
  {
   "cell_type": "code",
   "execution_count": null,
   "metadata": {
    "collapsed": false
   },
   "outputs": [],
   "source": [
    "print \"crimes\"\n",
    "print crimes.<YOUR CODE HERE>\n",
    "\n",
    "print \"\\n\\nweather\"\n",
    "print weather.<YOUR CODE HERE>"
   ]
  },
  {
   "cell_type": "markdown",
   "metadata": {},
   "source": [
    "Recall that the weather dataset schema is: station, date, metric, value\n",
    "\n",
    "Create an RDD from the weather dataset for the PRCP metric:\n",
    "1. Use only weather station USW00023272 (San Francisco)\n",
    "2. Each row in the new RDD should contain: date, value\n",
    "\n",
    "print 3 example values from the new RDD. How many elements exist in this new RDD?"
   ]
  },
  {
   "cell_type": "code",
   "execution_count": null,
   "metadata": {
    "collapsed": false
   },
   "outputs": [],
   "source": [
    "weather_kv = weather.<YOUR CODE HERE>\n",
    "print weather_kv.take(3)\n",
    "print weather_kv.count()"
   ]
  },
  {
   "cell_type": "markdown",
   "metadata": {},
   "source": [
    "To enable a join between the crime and weather datsets, create an RDD from the crimes dataset. This new RDD will have a key-value tuple, where:\n",
    "* The key is the date in a similar format to that of the weather dataset: YYYYMMDD\n",
    "* The value is the whole record from the crimes dataset"
   ]
  },
  {
   "cell_type": "code",
   "execution_count": null,
   "metadata": {
    "collapsed": false
   },
   "outputs": [],
   "source": [
    "crimes_kv = crimes.<YOUR CODE HERE>\n",
    "print crimes_kv.take(3)"
   ]
  },
  {
   "cell_type": "markdown",
   "metadata": {},
   "source": [
    "Join the crimes_kv and weather_kv RDDs, the output having prcp data for each crime report event. Print a few records of the resulting RDD to validate your approach."
   ]
  },
  {
   "cell_type": "code",
   "execution_count": null,
   "metadata": {
    "collapsed": false
   },
   "outputs": [],
   "source": [
    "j1 = <YOUR CODE HERE>\n",
    "j2 = j1.<YOUR CODE HERE>\n",
    "df1 = pd.DataFrame(j2.take(5), \\\n",
    "                   columns=['ID','category','description','dayofweek','date','time', \\\n",
    "                            'district','resolution','address','x','y','location','pdid', 'prcp'])\n",
    "df2 = df1[['category', 'description', 'date', 'district', 'resolution', 'location', 'prcp']]\n",
    "print df2\n"
   ]
  },
  {
   "cell_type": "markdown",
   "metadata": {},
   "source": [
    "Print the join lineage information"
   ]
  },
  {
   "cell_type": "code",
   "execution_count": null,
   "metadata": {
    "collapsed": false
   },
   "outputs": [],
   "source": [
    "print j2.toDebugString()"
   ]
  }
 ],
 "metadata": {
  "kernelspec": {
   "display_name": "Python 2",
   "language": "python",
   "name": "python2"
  },
  "language_info": {
   "codemirror_mode": {
    "name": "ipython",
    "version": 2
   },
   "file_extension": ".py",
   "mimetype": "text/x-python",
   "name": "python",
   "nbconvert_exporter": "python",
   "pygments_lexer": "ipython2",
   "version": "2.7.9"
  }
 },
 "nbformat": 4,
 "nbformat_minor": 0
}
