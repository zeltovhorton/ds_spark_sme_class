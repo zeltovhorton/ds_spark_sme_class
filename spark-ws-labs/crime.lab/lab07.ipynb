{
 "cells": [
  {
   "cell_type": "markdown",
   "metadata": {},
   "source": [
    "# Lab 7: Exploring Crime events with Spark DataFrames"
   ]
  },
  {
   "cell_type": "markdown",
   "metadata": {},
   "source": [
    "We have pre-loaded the crime dataset into HIVE on Hadoop, so you can explore it using Spark with HiveContext. First, please create a Spark Context and HiveContext, and set the default database to \"demo\""
   ]
  },
  {
   "cell_type": "code",
   "execution_count": null,
   "metadata": {
    "collapsed": false
   },
   "outputs": [],
   "source": [
    "# Set up Spark Context\n",
    "from pyspark import SparkContext, SparkConf\n",
    "\n",
    "SparkContext.setSystemProperty('spark.executor.memory', '2g')\n",
    "conf = SparkConf()\n",
    "conf.set('spark.executor.instances', 15)\n",
    "sc = SparkContext('yarn-client', 'Spark-lab7', conf=conf)\n",
    "\n",
    "from pyspark.sql import HiveContext\n",
    "<YOUR CODE HERE>"
   ]
  },
  {
   "cell_type": "markdown",
   "metadata": {},
   "source": [
    "Use Spark SQL to create a Pandas dataframe that computes the number of crimes per category:\n",
    "* Use sql() and a SQL statement to compute the crimes per category, sorted in descending order. \n",
    "* Store the result as a Pandas dataframe.\n",
    "* Display the top-20 results\n",
    "* Plot the top-20 categories as a bar chart"
   ]
  },
  {
   "cell_type": "code",
   "execution_count": null,
   "metadata": {
    "collapsed": false
   },
   "outputs": [],
   "source": [
    "cvals = hc.sql(\"<YOUR SQL CODE HERE>\")\n",
    "df = cvals.<YOUR CODE HERE>\n",
    "display(df[:20])\n",
    "\n",
    "df[:20].<YOUR CODE HERE>"
   ]
  },
  {
   "cell_type": "markdown",
   "metadata": {},
   "source": [
    "Compute the number of crimes per district, but this time using DataFrame API transformations:\n",
    "* load the table from spark as a Data Frame, using table()\n",
    "* use groupBy() to count the number of crimes per district\n",
    "* Sort the result in descening order. \n",
    "* Print the result\n",
    "* Plot the result as a bar chart"
   ]
  },
  {
   "cell_type": "code",
   "execution_count": null,
   "metadata": {
    "collapsed": false
   },
   "outputs": [],
   "source": [
    "<YOUR CODE HERE>"
   ]
  },
  {
   "cell_type": "markdown",
   "metadata": {
    "collapsed": false
   },
   "source": [
    "Now compute the number of crimes by hour of the day:\n",
    "* Use \"withColumn\" to add an \"hour\" column, computed from the \"time\" column with Python string slicing\n",
    "* use groupBy as before to count by hour\n",
    "* Sort by hour and then print/plot the results"
   ]
  },
  {
   "cell_type": "code",
   "execution_count": null,
   "metadata": {
    "collapsed": false
   },
   "outputs": [],
   "source": [
    "<YOUR CODE HERE>"
   ]
  },
  {
   "cell_type": "markdown",
   "metadata": {
    "collapsed": true
   },
   "source": [
    "Let's explore the resolution of crimes, as described in the \"resolution\" field: \n",
    "* Count the number of events per \"type of resolution\". Consider \"NONE\" as an \"unresolved\" crime, and everything else as resolved.\n",
    "* Print the number of crimes per resolution type. What are the two most common resolutions?"
   ]
  },
  {
   "cell_type": "code",
   "execution_count": null,
   "metadata": {
    "collapsed": false
   },
   "outputs": [],
   "source": [
    "hc.<YOUR CODE HERE>"
   ]
  }
 ],
 "metadata": {
  "kernelspec": {
   "display_name": "Python 2",
   "language": "python",
   "name": "python2"
  },
  "language_info": {
   "codemirror_mode": {
    "name": "ipython",
    "version": 2
   },
   "file_extension": ".py",
   "mimetype": "text/x-python",
   "name": "python",
   "nbconvert_exporter": "python",
   "pygments_lexer": "ipython2",
   "version": "2.7.9"
  }
 },
 "nbformat": 4,
 "nbformat_minor": 0
}
