{
 "cells": [
  {
   "cell_type": "markdown",
   "metadata": {},
   "source": [
    "# Lab 1 - Introduction to IPython Notebook (Jupyter) environment"
   ]
  },
  {
   "cell_type": "markdown",
   "metadata": {},
   "source": [
    "## Introduction\n",
    "\n",
    "Ipython notebook is a web-based interactive computing enviornment that is suitable for explorative analysis and data science, capturing the whole computation process: developing, documenting, and executing code, as well as communicating the results. \n",
    "\n",
    "The IPython notebook combines two components:\n",
    "\n",
    "**A web application:** a browser-based tool for interactive authoring of documents which combine explanatory text, mathematics, computations and their rich media output.\n",
    "\n",
    "**Notebook documents:** a representation of all content visible in the web application, including inputs and outputs of the computations, explanatory text, mathematics, images, and rich media representations of objects.\n",
    "\n",
    "Starting from V3.X IPython was renamed Jupyter to reflect the fact that although it started with supporting the Python programming language, it now fully support a variety of other progamming languages like Scala or R through a plug-in kernel mechanism."
   ]
  },
  {
   "cell_type": "markdown",
   "metadata": {
    "collapsed": false
   },
   "source": [
    "Notebook documents contains the inputs and outputs of a interactive session as well as additional text that accompanies the code but is not meant for execution. In this way, notebook files can serve as a complete computational record of a session, interleaving executable code with explanatory text, mathematics, and rich representations of resulting objects. These documents are internally JSON files and are saved with the .ipynb extension. Since JSON is a plain text format, they can be version-controlled and shared with colleagues.\n",
    "\n",
    "Notebooks may be exported to a range of static formats, including HTML (for example, for blog posts), reStructuredText, LaTeX, PDF, and slide shows, via the new nbconvert command.\n",
    "\n",
    "Furthermore, any .ipynb notebook document available from a public URL can be shared via the IPython Notebook Viewer (nbviewer). This service loads the notebook document from the URL and renders it as a static web page. The results may thus be shared with a colleague, or as a public blog post, without other users needing to install IPython themselves. In effect, nbviewer is simply nbconvert as a web service, so you can do your own static conversions with nbconvert, without relying on nbviewer.\n",
    "\n",
    "You are currently inside a notebook document called \"Lab1\" and we will continue this lab through various pre-populated cells of the notebook."
   ]
  },
  {
   "cell_type": "markdown",
   "metadata": {
    "collapsed": true
   },
   "source": [
    "## Creating a notebook\n",
    "A new notebook may be created at any time, either from the dashboard, or using a menu option from within an active notebook. The new notebook is created within the same directory and will open in a new browser tab. It will also be reflected as a new entry in the notebook list on the dashboard.\n",
    "\n",
    "Start a new notebook now using the File->New menu option. Choose the \"Python\" kernel.\n",
    "Note that the new notebook is called \"Untitled\". \n",
    "\n",
    "1. Click on its title to change its name to \"my notebook\".\n",
    "2. Go to the first cell. Use the drop-down under \"Help\" to change the cell type to \"markdown\". Then start typing in some markdown text.\n",
    "3. Create a new cell using the \"+\" icon. Write some python code and see how it executes. To execute code, simply click Shift+Enter inside the cell.\n",
    "4. Finally, close the \"my notebook\" and delete it from the dashboard \n"
   ]
  },
  {
   "cell_type": "markdown",
   "metadata": {},
   "source": [
    "## Simple Python\n",
    "\n",
    "Now let's explore some simple python programming:"
   ]
  },
  {
   "cell_type": "code",
   "execution_count": 1,
   "metadata": {
    "collapsed": false
   },
   "outputs": [
    {
     "name": "stdout",
     "output_type": "stream",
     "text": [
      "This is the first code cell\n"
     ]
    }
   ],
   "source": [
    "print \"This is the first code cell\""
   ]
  },
  {
   "cell_type": "markdown",
   "metadata": {},
   "source": [
    "Plotting a sinus wave:"
   ]
  },
  {
   "cell_type": "code",
   "execution_count": 2,
   "metadata": {
    "collapsed": false
   },
   "outputs": [
    {
     "data": {
      "text/plain": [
       "[<matplotlib.lines.Line2D at 0x7f3442be1d50>]"
      ]
     },
     "execution_count": 2,
     "metadata": {},
     "output_type": "execute_result"
    },
    {
     "data": {
      "image/png": "[encoded data removed]",
      "text/plain": [
       "<matplotlib.figure.Figure at 0x7f3448058e10>"
      ]
     },
     "metadata": {},
     "output_type": "display_data"
    }
   ],
   "source": [
    "x = linspace(0, 10)\n",
    "y = sin(x)\n",
    "plot(x, y)"
   ]
  },
  {
   "cell_type": "markdown",
   "metadata": {},
   "source": [
    "# Word-count using Python\n",
    "word-count is the poster-child example of distributed computing. We will look at this later, but for now let's try to do it also with non-distributed, regular, python.\n",
    "\n",
    "First we define a small text file. It includes part of the script from 'the princess bride' movie:"
   ]
  },
  {
   "cell_type": "code",
   "execution_count": 3,
   "metadata": {
    "collapsed": false
   },
   "outputs": [],
   "source": [
    "script = \"\"\"\n",
    "Inigo:  Hello there!  Waves.  Slow going? \n",
    "Man In Black:Climbing cliff.  Look, I don't mean to be rude, but this is not as easy as it looks, so I'd appreciate it if you wouldn't distract me. \n",
    "Inigo:  Sorry. \n",
    "Man In Black:Tersely. Thank you. \n",
    "Inigo:  I do not suppose you could-a speed things up? \n",
    "Man In Black:  If you're in such a hurry, you could lower a rope or a tree branch or find something useful to do. \n",
    "Inigo:  I could do that. I've got some rope up here, but I do not think you would accept my help, since I am only waiting around to kill you. \n",
    "Man In Black:Nods. That does put a damper on our relationship. \n",
    "Inigo:  But, I promise I will not kill you until you reach the top. \n",
    "Man In Black:  That's very comforting, but I'm afraid you'll just have to wait. \n",
    "Inigo:  I hate waiting. Begins to walk away, but turns and comes back. I could give you my word as a Spaniard...? \n",
    "Man In Black:Strained. No good. I've known too many Spaniards. \n",
    "Inigo:  So's there any way you'll trust me? \n",
    "Man In Black:  Nothing comes to mind. \n",
    "Inigo:  I swear, on the soul of my father, Domingo Montoya, you will reach the top alive. \n",
    "Man In Black:  Throw me the rope. Inigo uncoils part of the rope from the rock and tosses it over the edge. The man in black climbs to the top. Thank you. Begins to draw sword. \n",
    "Inigo:  W-w-w-w-we'll wait until you're ready. \n",
    "Man In Black:  Again, thank you. Both sit. The man in black empties rocks from his boot. \n",
    "Inigo:  I do not mean to pry, but you don't by any chance happen to have six fingers on your right hand? \n",
    "Man In Black:Still holding his boot. Do you always begin conversations this way? \n",
    "Inigo:  My father was slaughtered by a six fingered man. Was a great sword maker, my father. When the six fingered man appear and request a special sword, my father took the job. Draws sword. He slave a year before he was done. Hands to Man in Black \n",
    "Man In Black: Admiring the sword.  I've never seen its equal. Returns sword. \n",
    "Inigo:  Six fingered man returned and demanded it, but at one-tenth his promised price. My father refuse. Without a word, the six fingered man slash him through the heart. Sheaths sword.  I loved my father, so naturally I challenged his murderer to a duel. I fail. Six fingered man leave me alive. But he give me these. Points to scars on his cheeks. \n",
    "Man In Black:  How old were you? \n",
    "Inigo:  I was eleven years old. When I was-a strong enough, I dedicated my life to the study of fencing, so the next time we meet, I will not fail. I will go up to the six fingered man and say, \"Hello. My name is Inigo Montoya. You killed my father.  Prepare to die.\" \n",
    "Man In Black:  You've done nothing but study swordplay? \n",
    "Inigo:  More a pursuit than a study, lately. You see, I cannot find him. It has been twenty years now and I am starting to lose confidence. I just work for Vizzini to pay the bills. It's not a lot of money in revenge. \n",
    "Man In Black:  Well, I Rises. I certainly hope you find him someday. \n",
    "Inigo:  You are ready, then? \n",
    "Man In Black:  Whether I am or not, you've been more than fair. \n",
    "Inigo:  You seem a decent fellow. I hate to kill you. \n",
    "Man In Black: You seem a decent fellow. I hate to die. \n",
    "\"\"\""
   ]
  },
  {
   "cell_type": "markdown",
   "metadata": {},
   "source": [
    "Python's split(sep) function takes a string and returns a list of the words in the string, using sep as the delimiter string.\n",
    "\n",
    "Use python's split() function to split the text into a list of individual words, using a single space as a separator"
   ]
  },
  {
   "cell_type": "code",
   "execution_count": 4,
   "metadata": {
    "collapsed": true
   },
   "outputs": [],
   "source": [
    "words = script.split(' ')"
   ]
  },
  {
   "cell_type": "markdown",
   "metadata": {},
   "source": [
    "Normalize the list of words such that they are all lower case and have no trailing space. Use lower() and strip() with Python list comprehension:"
   ]
  },
  {
   "cell_type": "code",
   "execution_count": 5,
   "metadata": {
    "collapsed": true
   },
   "outputs": [],
   "source": [
    "words_norm = [w.lower().strip() for w in words]"
   ]
  },
  {
   "cell_type": "markdown",
   "metadata": {},
   "source": [
    "Python's collections package provides a defaultdict class that acts the same way as a regular python dictionary, but returns a default missing value if a value is requested for a non-available key. \n",
    "\n",
    "* Use a defaultdict() to count the number of occurrences per word in the script.\n",
    "* Use Python's sorted() to print the results sorted by the top-20 words (by occurrence frequency). Remember that  sorted() returns a new list, and does not sort in place."
   ]
  },
  {
   "cell_type": "code",
   "execution_count": 6,
   "metadata": {
    "collapsed": false
   },
   "outputs": [
    {
     "name": "stdout",
     "output_type": "stream",
     "text": [
      "[('', 32), ('i', 27), ('man', 24), ('in', 21), ('to', 20), ('the', 19), ('inigo:', 16), ('you', 16), ('a', 16), ('black:', 11), ('my', 11), ('but', 8), ('six', 7), ('not', 7), ('fingered', 6), ('and', 6), ('do', 5), ('his', 5), ('you.', 5), ('sword.', 5)]\n"
     ]
    }
   ],
   "source": [
    "from collections import defaultdict\n",
    "wc = defaultdict(int)\n",
    "for w in words_norm:\n",
    "    wc[w] += 1\n",
    "print sorted(list(wc.items()), key = lambda x: -x[1])[:20]\n"
   ]
  },
  {
   "cell_type": "markdown",
   "metadata": {},
   "source": [
    "Look at the results and suggest two more improvements you can make.\n",
    "\n",
    "Hints: \n",
    "* look at the top 20 words you just printed above and identify those that may be redundant.\n",
    "* string.punctuation"
   ]
  },
  {
   "cell_type": "code",
   "execution_count": 7,
   "metadata": {
    "collapsed": false
   },
   "outputs": [
    {
     "name": "stdout",
     "output_type": "stream",
     "text": [
      "[('i', 27), ('man', 25), ('you', 22), ('in', 21), ('to', 20), ('the', 19), ('inigo', 18), ('a', 16), ('black', 14), ('my', 11), ('but', 9), ('not', 8), ('father', 7), ('sword', 7), ('six', 7), ('fingered', 6), ('do', 6), ('and', 6), ('me', 5), ('it', 5)]\n"
     ]
    }
   ],
   "source": [
    "wc = defaultdict(int)\n",
    "import string\n",
    "for w in words_norm:\n",
    "    if len(w)>0:\n",
    "        wc[w.translate(None, string.punctuation)] += 1\n",
    "print sorted(list(wc.items()), key = lambda x: -x[1])[:20]\n"
   ]
  },
  {
   "cell_type": "markdown",
   "metadata": {},
   "source": [
    "# Pandas Basics"
   ]
  },
  {
   "cell_type": "markdown",
   "metadata": {
    "collapsed": true
   },
   "source": [
    "Pandas is an open-source library for high performance easy-to-use data analysis in Python. We will use Pandas in the labs, primarily the DataFrame data structure. In what follows we explore some basic features of Pandas DataFrames.\n",
    "\n",
    "To use Pandas, we first import it into Python"
   ]
  },
  {
   "cell_type": "code",
   "execution_count": 8,
   "metadata": {
    "collapsed": true
   },
   "outputs": [],
   "source": [
    "import pandas as pd"
   ]
  },
  {
   "cell_type": "markdown",
   "metadata": {},
   "source": [
    "Pandas is a very powerful library with a rich API, and very often any type of action on a DataFrame is possible in a variety of ways. For example, there are many ways to create a Pandas data frame, including: from a numpy array, from a list of lists, or from a dictionary. \n",
    "\n",
    "Create a Pandas DataFrame with 2 columns (SKU, price) and 100 rows. For each row, generate a sequential 4 digit SKU, and a random integer price between 1000 and 9999.\n",
    "\n",
    "The resulting table should look like this (showing only two rows as an example)\n",
    "\n",
    "|sku|price|\n",
    "|---|----:|\n",
    "|123|198  |\n",
    "|923|103  |\n",
    "\n",
    "* First, create the a list of SKUs\n",
    "* Then, create a list of prices\n",
    "* Finally, generate the Pandas dataframe using these two variables"
   ]
  },
  {
   "cell_type": "code",
   "execution_count": 9,
   "metadata": {
    "collapsed": false
   },
   "outputs": [
    {
     "data": {
      "text/html": [
       "<div style=\"max-height:1000px;max-width:1500px;overflow:auto;\">\n",
       "<table border=\"1\" class=\"dataframe\">\n",
       "  <thead>\n",
       "    <tr style=\"text-align: right;\">\n",
       "      <th></th>\n",
       "      <th>sku</th>\n",
       "      <th>price</th>\n",
       "    </tr>\n",
       "  </thead>\n",
       "  <tbody>\n",
       "    <tr>\n",
       "      <th>0</th>\n",
       "      <td>100</td>\n",
       "      <td>8803</td>\n",
       "    </tr>\n",
       "    <tr>\n",
       "      <th>1</th>\n",
       "      <td>101</td>\n",
       "      <td>6805</td>\n",
       "    </tr>\n",
       "    <tr>\n",
       "      <th>2</th>\n",
       "      <td>102</td>\n",
       "      <td>7885</td>\n",
       "    </tr>\n",
       "    <tr>\n",
       "      <th>3</th>\n",
       "      <td>103</td>\n",
       "      <td>9080</td>\n",
       "    </tr>\n",
       "    <tr>\n",
       "      <th>4</th>\n",
       "      <td>104</td>\n",
       "      <td>4840</td>\n",
       "    </tr>\n",
       "  </tbody>\n",
       "</table>\n",
       "</div>"
      ],
      "text/plain": [
       "   sku  price\n",
       "0  100   8803\n",
       "1  101   6805\n",
       "2  102   7885\n",
       "3  103   9080\n",
       "4  104   4840"
      ]
     },
     "execution_count": 9,
     "metadata": {},
     "output_type": "execute_result"
    }
   ],
   "source": [
    "skus = [str(x) for x in range(100,200)]\n",
    "prices = [randint(1000,9999) for x in range(100)]\n",
    "\n",
    "df = pd.DataFrame({'sku': skus, 'price': prices}, columns = ['sku', 'price'])\n",
    "df.head()"
   ]
  },
  {
   "cell_type": "markdown",
   "metadata": {},
   "source": [
    "Selecting a column from a Dataframe can be done by name or by position. To select by column name use \"df['col-name']\". The result of selecting a single column is a Pandas Series object. \n",
    "\n",
    "Select the column 'price' and compute the average price"
   ]
  },
  {
   "cell_type": "code",
   "execution_count": 10,
   "metadata": {
    "collapsed": false
   },
   "outputs": [
    {
     "data": {
      "text/plain": [
       "5516.3000000000002"
      ]
     },
     "execution_count": 10,
     "metadata": {},
     "output_type": "execute_result"
    }
   ],
   "source": [
    "df['price'].mean()"
   ]
  },
  {
   "cell_type": "markdown",
   "metadata": {},
   "source": [
    "As with columns, there are many ways in Pandas to select a subset of rows. \n",
    "One such way is called \"Boolean Indexing\" in which you use a boolean expression to designate which rows to select. For example df[df.A>2]\n",
    "\n",
    "Use Boolean indexing to select those rows with prices above 2500. How many rows do you have? "
   ]
  },
  {
   "cell_type": "code",
   "execution_count": 11,
   "metadata": {
    "collapsed": false
   },
   "outputs": [
    {
     "name": "stdout",
     "output_type": "stream",
     "text": [
      "   sku  price\n",
      "0  100   8803\n",
      "1  101   6805\n",
      "2  102   7885\n",
      "3  103   9080\n",
      "4  104   4840\n"
     ]
    },
    {
     "data": {
      "text/plain": [
       "82"
      ]
     },
     "execution_count": 11,
     "metadata": {},
     "output_type": "execute_result"
    }
   ],
   "source": [
    "df2 = df[df[\"price\"]>2500]\n",
    "print df2.head(5)\n",
    "\n",
    "len(df2)"
   ]
  },
  {
   "cell_type": "markdown",
   "metadata": {},
   "source": [
    "For a more detailed exploration of Pandas, take a look at the documentation: http://pandas-docs.github.io/pandas-docs-travis/"
   ]
  }
 ],
 "metadata": {
  "kernelspec": {
   "display_name": "Python 2",
   "language": "python",
   "name": "python2"
  },
  "language_info": {
   "codemirror_mode": {
    "name": "ipython",
    "version": 2
   },
   "file_extension": ".py",
   "mimetype": "text/x-python",
   "name": "python",
   "nbconvert_exporter": "python",
   "pygments_lexer": "ipython2",
   "version": "2.7.9"
  }
 },
 "nbformat": 4,
 "nbformat_minor": 0
}
