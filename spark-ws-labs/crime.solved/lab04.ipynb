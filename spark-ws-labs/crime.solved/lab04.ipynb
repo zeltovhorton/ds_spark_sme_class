{
 "cells": [
  {
   "cell_type": "markdown",
   "metadata": {},
   "source": [
    "# Lab 4 - exploring the class datasets with IPython Notebook"
   ]
  },
  {
   "cell_type": "markdown",
   "metadata": {},
   "source": [
    "## Crime Dataset\n",
    "The city of San Francisco released an interesting dataset that lists all crimes committed in the city since 2003, as reported by SFPD. The dataset is freely available on the web at: https://data.sfgov.org/Public-Safety/SFPD-Incidents-from-1-January-2003/tmnf-yvry\n",
    "\n",
    "We have pre-loaded this \"crime event\" dataset into HDFS. It's a single file called \"sf_crimes.csv\" under folder \"crime_report\"."
   ]
  },
  {
   "cell_type": "markdown",
   "metadata": {},
   "source": [
    "First, as usual, setup a Spark Context, but since we are working with larger datasets this time -- configure Spark to create 15 executors with 2GB for executor memory"
   ]
  },
  {
   "cell_type": "code",
   "execution_count": 1,
   "metadata": {
    "collapsed": false
   },
   "outputs": [],
   "source": [
    "# Set up Spark Context\n",
    "from pyspark import SparkContext, SparkConf\n",
    "\n",
    "SparkContext.setSystemProperty('spark.executor.memory', '2g')\n",
    "conf = SparkConf()\n",
    "conf.set('spark.executor.instances', 15)\n",
    "sc = SparkContext('yarn-client', 'Spark-lab4', conf=conf)"
   ]
  },
  {
   "cell_type": "markdown",
   "metadata": {},
   "source": [
    "Write a Spark program that reads this CSV file into an RDD. Each item in this RDD is a list of all the field values for this line. \n",
    "\n",
    "A few notes:\n",
    "1. The file's first row includes the column names, which are not values, so you may want to ignore this first line. Think about a simple way to filter that line out.\n",
    "2. Some field values include commas inside quotes, so you have to deal with this appropriately. Look at Python's CSV package (https://docs.python.org/2/library/csv.html) for a simple solution, but bear in mind that csv.reader returns an object that might not be serializable by PySpark, so you'll have to use Python's next() to iterate over it inside your map() function.\n",
    "\n",
    "Print the total number of crime events in the dataset"
   ]
  },
  {
   "cell_type": "code",
   "execution_count": 2,
   "metadata": {
    "collapsed": false,
    "scrolled": false
   },
   "outputs": [
    {
     "name": "stdout",
     "output_type": "stream",
     "text": [
      "number of crimes reported =  1750133\n"
     ]
    }
   ],
   "source": [
    "from csv import reader\n",
    "lines = sc.textFile(\"crime_report/sf_crimes.csv\") \\\n",
    "          .filter(lambda line: line[:2]!='In')\n",
    "crimes = lines.map(lambda line: [x.strip('\"') for x in next(reader([line]))])\n",
    "crimes.cache()\n",
    "print \"number of crimes reported = \", crimes.count()"
   ]
  },
  {
   "cell_type": "markdown",
   "metadata": {},
   "source": [
    "Now print 5 example rows from the RDD, using Pandas.\n",
    "1. Use pd.DataFrame() to convert the first 5 elements of the RDD into a pandas DataFrame\n",
    "2. Column names are: id, category, description, dayofweek, date, time, district, resolution, address, x, y, location, pdid"
   ]
  },
  {
   "cell_type": "code",
   "execution_count": 3,
   "metadata": {
    "collapsed": false
   },
   "outputs": [
    {
     "data": {
      "text/html": [
       "<div style=\"max-height:1000px;max-width:1500px;overflow:auto;\">\n",
       "<table border=\"1\" class=\"dataframe\">\n",
       "  <thead>\n",
       "    <tr style=\"text-align: right;\">\n",
       "      <th></th>\n",
       "      <th>ID</th>\n",
       "      <th>category</th>\n",
       "      <th>description</th>\n",
       "      <th>dayofweek</th>\n",
       "      <th>date</th>\n",
       "      <th>time</th>\n",
       "      <th>district</th>\n",
       "      <th>resolution</th>\n",
       "      <th>address</th>\n",
       "      <th>x</th>\n",
       "      <th>y</th>\n",
       "      <th>location</th>\n",
       "      <th>pdid</th>\n",
       "    </tr>\n",
       "  </thead>\n",
       "  <tbody>\n",
       "    <tr>\n",
       "      <th>0</th>\n",
       "      <td>150331521</td>\n",
       "      <td>LARCENY/THEFT</td>\n",
       "      <td>GRAND THEFT FROM A BUILDING</td>\n",
       "      <td>Wednesday</td>\n",
       "      <td>04/22/2015</td>\n",
       "      <td>18:00</td>\n",
       "      <td>BAYVIEW</td>\n",
       "      <td>NONE</td>\n",
       "      <td>2000 Block of EVANS AV</td>\n",
       "      <td>-122.396315619126</td>\n",
       "      <td>37.7478113603031</td>\n",
       "      <td>(37.7478113603031, -122.396315619126)</td>\n",
       "      <td>15033152106304</td>\n",
       "    </tr>\n",
       "    <tr>\n",
       "      <th>1</th>\n",
       "      <td>150341605</td>\n",
       "      <td>ASSAULT</td>\n",
       "      <td>ATTEMPTED SIMPLE ASSAULT</td>\n",
       "      <td>Sunday</td>\n",
       "      <td>04/19/2015</td>\n",
       "      <td>12:15</td>\n",
       "      <td>CENTRAL</td>\n",
       "      <td>NONE</td>\n",
       "      <td>800 Block of WASHINGTON ST</td>\n",
       "      <td>-122.40672716771</td>\n",
       "      <td>37.7950566945259</td>\n",
       "      <td>(37.7950566945259, -122.40672716771)</td>\n",
       "      <td>15034160504114</td>\n",
       "    </tr>\n",
       "    <tr>\n",
       "      <th>2</th>\n",
       "      <td>150341605</td>\n",
       "      <td>ASSAULT</td>\n",
       "      <td>THREATS AGAINST LIFE</td>\n",
       "      <td>Sunday</td>\n",
       "      <td>04/19/2015</td>\n",
       "      <td>12:15</td>\n",
       "      <td>CENTRAL</td>\n",
       "      <td>NONE</td>\n",
       "      <td>800 Block of WASHINGTON ST</td>\n",
       "      <td>-122.40672716771</td>\n",
       "      <td>37.7950566945259</td>\n",
       "      <td>(37.7950566945259, -122.40672716771)</td>\n",
       "      <td>15034160519057</td>\n",
       "    </tr>\n",
       "    <tr>\n",
       "      <th>3</th>\n",
       "      <td>150341605</td>\n",
       "      <td>OTHER OFFENSES</td>\n",
       "      <td>CRUELTY TO ANIMALS</td>\n",
       "      <td>Sunday</td>\n",
       "      <td>04/19/2015</td>\n",
       "      <td>12:15</td>\n",
       "      <td>CENTRAL</td>\n",
       "      <td>NONE</td>\n",
       "      <td>800 Block of WASHINGTON ST</td>\n",
       "      <td>-122.40672716771</td>\n",
       "      <td>37.7950566945259</td>\n",
       "      <td>(37.7950566945259, -122.40672716771)</td>\n",
       "      <td>15034160528010</td>\n",
       "    </tr>\n",
       "    <tr>\n",
       "      <th>4</th>\n",
       "      <td>150341702</td>\n",
       "      <td>NON-CRIMINAL</td>\n",
       "      <td>AIDED CASE, MENTAL DISTURBED</td>\n",
       "      <td>Sunday</td>\n",
       "      <td>04/19/2015</td>\n",
       "      <td>12:03</td>\n",
       "      <td>MISSION</td>\n",
       "      <td>EXCEPTIONAL CLEARANCE</td>\n",
       "      <td>1100 Block of SOUTH VAN NESS AV</td>\n",
       "      <td>-122.416557578218</td>\n",
       "      <td>37.7547485110398</td>\n",
       "      <td>(37.7547485110398, -122.416557578218)</td>\n",
       "      <td>15034170264020</td>\n",
       "    </tr>\n",
       "  </tbody>\n",
       "</table>\n",
       "</div>"
      ],
      "text/plain": [
       "          ID        category                   description  dayofweek  \\\n",
       "0  150331521   LARCENY/THEFT   GRAND THEFT FROM A BUILDING  Wednesday   \n",
       "1  150341605         ASSAULT      ATTEMPTED SIMPLE ASSAULT     Sunday   \n",
       "2  150341605         ASSAULT          THREATS AGAINST LIFE     Sunday   \n",
       "3  150341605  OTHER OFFENSES            CRUELTY TO ANIMALS     Sunday   \n",
       "4  150341702    NON-CRIMINAL  AIDED CASE, MENTAL DISTURBED     Sunday   \n",
       "\n",
       "         date   time district             resolution  \\\n",
       "0  04/22/2015  18:00  BAYVIEW                   NONE   \n",
       "1  04/19/2015  12:15  CENTRAL                   NONE   \n",
       "2  04/19/2015  12:15  CENTRAL                   NONE   \n",
       "3  04/19/2015  12:15  CENTRAL                   NONE   \n",
       "4  04/19/2015  12:03  MISSION  EXCEPTIONAL CLEARANCE   \n",
       "\n",
       "                           address                  x                 y  \\\n",
       "0           2000 Block of EVANS AV  -122.396315619126  37.7478113603031   \n",
       "1       800 Block of WASHINGTON ST   -122.40672716771  37.7950566945259   \n",
       "2       800 Block of WASHINGTON ST   -122.40672716771  37.7950566945259   \n",
       "3       800 Block of WASHINGTON ST   -122.40672716771  37.7950566945259   \n",
       "4  1100 Block of SOUTH VAN NESS AV  -122.416557578218  37.7547485110398   \n",
       "\n",
       "                                location            pdid  \n",
       "0  (37.7478113603031, -122.396315619126)  15033152106304  \n",
       "1   (37.7950566945259, -122.40672716771)  15034160504114  \n",
       "2   (37.7950566945259, -122.40672716771)  15034160519057  \n",
       "3   (37.7950566945259, -122.40672716771)  15034160528010  \n",
       "4  (37.7547485110398, -122.416557578218)  15034170264020  "
      ]
     },
     "execution_count": 3,
     "metadata": {},
     "output_type": "execute_result"
    }
   ],
   "source": [
    "import pandas as pd\n",
    "df = pd.DataFrame(crimes.take(5), \\\n",
    "                  columns=['ID','category','description','dayofweek','date','time', \\\n",
    "                           'district','resolution','address','x','y','location','pdid'])                  \n",
    "df"
   ]
  },
  {
   "cell_type": "markdown",
   "metadata": {},
   "source": [
    "The \"category\" field has multiple different values it may contain. \n",
    "Write a Spark program that counts the number of crimes of each category."
   ]
  },
  {
   "cell_type": "code",
   "execution_count": 4,
   "metadata": {
    "collapsed": false
   },
   "outputs": [
    {
     "data": {
      "text/html": [
       "<div style=\"max-height:1000px;max-width:1500px;overflow:auto;\">\n",
       "<table border=\"1\" class=\"dataframe\">\n",
       "  <thead>\n",
       "    <tr style=\"text-align: right;\">\n",
       "      <th></th>\n",
       "      <th>count</th>\n",
       "    </tr>\n",
       "    <tr>\n",
       "      <th>category</th>\n",
       "      <th></th>\n",
       "    </tr>\n",
       "  </thead>\n",
       "  <tbody>\n",
       "    <tr>\n",
       "      <th>LARCENY/THEFT</th>\n",
       "      <td>348523</td>\n",
       "    </tr>\n",
       "    <tr>\n",
       "      <th>OTHER OFFENSES</th>\n",
       "      <td>251180</td>\n",
       "    </tr>\n",
       "    <tr>\n",
       "      <th>NON-CRIMINAL</th>\n",
       "      <td>183911</td>\n",
       "    </tr>\n",
       "    <tr>\n",
       "      <th>ASSAULT</th>\n",
       "      <td>153485</td>\n",
       "    </tr>\n",
       "    <tr>\n",
       "      <th>DRUG/NARCOTIC</th>\n",
       "      <td>107653</td>\n",
       "    </tr>\n",
       "    <tr>\n",
       "      <th>VEHICLE THEFT</th>\n",
       "      <td>107112</td>\n",
       "    </tr>\n",
       "    <tr>\n",
       "      <th>VANDALISM</th>\n",
       "      <td>89282</td>\n",
       "    </tr>\n",
       "    <tr>\n",
       "      <th>WARRANTS</th>\n",
       "      <td>83919</td>\n",
       "    </tr>\n",
       "    <tr>\n",
       "      <th>BURGLARY</th>\n",
       "      <td>73539</td>\n",
       "    </tr>\n",
       "    <tr>\n",
       "      <th>SUSPICIOUS OCC</th>\n",
       "      <td>62802</td>\n",
       "    </tr>\n",
       "    <tr>\n",
       "      <th>MISSING PERSON</th>\n",
       "      <td>51482</td>\n",
       "    </tr>\n",
       "    <tr>\n",
       "      <th>ROBBERY</th>\n",
       "      <td>45546</td>\n",
       "    </tr>\n",
       "    <tr>\n",
       "      <th>FRAUD</th>\n",
       "      <td>33272</td>\n",
       "    </tr>\n",
       "    <tr>\n",
       "      <th>FORGERY/COUNTERFEITING</th>\n",
       "      <td>21148</td>\n",
       "    </tr>\n",
       "    <tr>\n",
       "      <th>SECONDARY CODES</th>\n",
       "      <td>19890</td>\n",
       "    </tr>\n",
       "    <tr>\n",
       "      <th>WEAPON LAWS</th>\n",
       "      <td>17131</td>\n",
       "    </tr>\n",
       "    <tr>\n",
       "      <th>PROSTITUTION</th>\n",
       "      <td>15214</td>\n",
       "    </tr>\n",
       "    <tr>\n",
       "      <th>TRESPASS</th>\n",
       "      <td>14450</td>\n",
       "    </tr>\n",
       "    <tr>\n",
       "      <th>STOLEN PROPERTY</th>\n",
       "      <td>9261</td>\n",
       "    </tr>\n",
       "    <tr>\n",
       "      <th>SEX OFFENSES, FORCIBLE</th>\n",
       "      <td>8709</td>\n",
       "    </tr>\n",
       "  </tbody>\n",
       "</table>\n",
       "</div>"
      ],
      "text/plain": [
       "                         count\n",
       "category                      \n",
       "LARCENY/THEFT           348523\n",
       "OTHER OFFENSES          251180\n",
       "NON-CRIMINAL            183911\n",
       "ASSAULT                 153485\n",
       "DRUG/NARCOTIC           107653\n",
       "VEHICLE THEFT           107112\n",
       "VANDALISM                89282\n",
       "WARRANTS                 83919\n",
       "BURGLARY                 73539\n",
       "SUSPICIOUS OCC           62802\n",
       "MISSING PERSON           51482\n",
       "ROBBERY                  45546\n",
       "FRAUD                    33272\n",
       "FORGERY/COUNTERFEITING   21148\n",
       "SECONDARY CODES          19890\n",
       "WEAPON LAWS              17131\n",
       "PROSTITUTION             15214\n",
       "TRESPASS                 14450\n",
       "STOLEN PROPERTY           9261\n",
       "SEX OFFENSES, FORCIBLE    8709"
      ]
     },
     "execution_count": 4,
     "metadata": {},
     "output_type": "execute_result"
    }
   ],
   "source": [
    "rdd1 = crimes.map(lambda x: (x[1],1)).reduceByKey(lambda x,y: x+y)\n",
    "df1 = pd.DataFrame(rdd1.collect(), columns=['category', 'count']) \\\n",
    "        .set_index('category').sort(columns='count', ascending=False).ix[:20]\n",
    "df1"
   ]
  },
  {
   "cell_type": "markdown",
   "metadata": {},
   "source": [
    "Use Panda's plot function to display the count per category as a bar chart"
   ]
  },
  {
   "cell_type": "code",
   "execution_count": 5,
   "metadata": {
    "collapsed": false
   },
   "outputs": [
    {
     "data": {
      "text/plain": [
       "<matplotlib.axes._subplots.AxesSubplot at 0x7f332476b350>"
      ]
     },
     "execution_count": 5,
     "metadata": {},
     "output_type": "execute_result"
    },
    {
     "data": {
      "image/png": "[encoded data removed]",
      "text/plain": [
       "<matplotlib.figure.Figure at 0x7f33275de690>"
      ]
     },
     "metadata": {},
     "output_type": "display_data"
    }
   ],
   "source": [
    "df1.plot(kind='bar', legend=False, figsize=(12,5))"
   ]
  },
  {
   "cell_type": "markdown",
   "metadata": {},
   "source": [
    "Now write a program that counts the number of crimes per district"
   ]
  },
  {
   "cell_type": "code",
   "execution_count": 6,
   "metadata": {
    "collapsed": false
   },
   "outputs": [
    {
     "data": {
      "text/html": [
       "<div style=\"max-height:1000px;max-width:1500px;overflow:auto;\">\n",
       "<table border=\"1\" class=\"dataframe\">\n",
       "  <thead>\n",
       "    <tr style=\"text-align: right;\">\n",
       "      <th></th>\n",
       "      <th>count</th>\n",
       "    </tr>\n",
       "    <tr>\n",
       "      <th>district</th>\n",
       "      <th></th>\n",
       "    </tr>\n",
       "  </thead>\n",
       "  <tbody>\n",
       "    <tr>\n",
       "      <th>SOUTHERN</th>\n",
       "      <td>312530</td>\n",
       "    </tr>\n",
       "    <tr>\n",
       "      <th>MISSION</th>\n",
       "      <td>238929</td>\n",
       "    </tr>\n",
       "    <tr>\n",
       "      <th>NORTHERN</th>\n",
       "      <td>210807</td>\n",
       "    </tr>\n",
       "    <tr>\n",
       "      <th>BAYVIEW</th>\n",
       "      <td>177955</td>\n",
       "    </tr>\n",
       "    <tr>\n",
       "      <th>CENTRAL</th>\n",
       "      <td>170113</td>\n",
       "    </tr>\n",
       "    <tr>\n",
       "      <th>TENDERLOIN</th>\n",
       "      <td>162724</td>\n",
       "    </tr>\n",
       "    <tr>\n",
       "      <th>INGLESIDE</th>\n",
       "      <td>157816</td>\n",
       "    </tr>\n",
       "    <tr>\n",
       "      <th>TARAVAL</th>\n",
       "      <td>131149</td>\n",
       "    </tr>\n",
       "    <tr>\n",
       "      <th>PARK</th>\n",
       "      <td>98712</td>\n",
       "    </tr>\n",
       "    <tr>\n",
       "      <th>RICHMOND</th>\n",
       "      <td>89398</td>\n",
       "    </tr>\n",
       "  </tbody>\n",
       "</table>\n",
       "</div>"
      ],
      "text/plain": [
       "             count\n",
       "district          \n",
       "SOUTHERN    312530\n",
       "MISSION     238929\n",
       "NORTHERN    210807\n",
       "BAYVIEW     177955\n",
       "CENTRAL     170113\n",
       "TENDERLOIN  162724\n",
       "INGLESIDE   157816\n",
       "TARAVAL     131149\n",
       "PARK         98712\n",
       "RICHMOND     89398"
      ]
     },
     "execution_count": 6,
     "metadata": {},
     "output_type": "execute_result"
    }
   ],
   "source": [
    "rdd2 = crimes.map(lambda x: (x[6],1)).reduceByKey(lambda x,y: x+y)\n",
    "df2 = pd.DataFrame(rdd2.collect(), columns=['district', 'count']) \\\n",
    "        .set_index('district').sort(columns='count', ascending=False)\n",
    "df2"
   ]
  },
  {
   "cell_type": "markdown",
   "metadata": {
    "collapsed": true
   },
   "source": [
    "Use Panda's plot function to display this data in a bar chart"
   ]
  },
  {
   "cell_type": "code",
   "execution_count": 7,
   "metadata": {
    "collapsed": false
   },
   "outputs": [
    {
     "data": {
      "text/plain": [
       "<matplotlib.axes._subplots.AxesSubplot at 0x7f33245805d0>"
      ]
     },
     "execution_count": 7,
     "metadata": {},
     "output_type": "execute_result"
    },
    {
     "data": {
      "image/png": "[encoded data removed]",
      "text/plain": [
       "<matplotlib.figure.Figure at 0x7f33245afe10>"
      ]
     },
     "metadata": {},
     "output_type": "display_data"
    }
   ],
   "source": [
    "df2.plot(kind='bar', legend=False, figsize=(12,5))"
   ]
  },
  {
   "cell_type": "markdown",
   "metadata": {},
   "source": [
    "## Weather Dataset"
   ]
  },
  {
   "cell_type": "markdown",
   "metadata": {},
   "source": [
    "We also have a weather dataset that includes various measurements from weather stations around the country. This dataset is loaded into HDFS under the \"weather\" folder.\n",
    "\n",
    "Write a Spark program that loads the weather data for 2013 (under the path \"weather/2013.csv\") into an RDD.\n",
    "Note that the file has comma-separated records, each with 8 fields, but we only care about the first 4 (in order):\n",
    "- station name\n",
    "- date\n",
    "- metric type\n",
    "- value\n",
    "\n",
    "Use pandas pd.DataFrame(...) function to translate the result into a Pandas dataframe that includes the first 5 elements in this RDD and print the resulting Pandas dataframe."
   ]
  },
  {
   "cell_type": "code",
   "execution_count": 8,
   "metadata": {
    "collapsed": false
   },
   "outputs": [
    {
     "data": {
      "text/html": [
       "<div style=\"max-height:1000px;max-width:1500px;overflow:auto;\">\n",
       "<table border=\"1\" class=\"dataframe\">\n",
       "  <thead>\n",
       "    <tr style=\"text-align: right;\">\n",
       "      <th></th>\n",
       "      <th>station</th>\n",
       "      <th>date</th>\n",
       "      <th>metric</th>\n",
       "      <th>value</th>\n",
       "    </tr>\n",
       "  </thead>\n",
       "  <tbody>\n",
       "    <tr>\n",
       "      <th>0</th>\n",
       "      <td>US1FLSL0019</td>\n",
       "      <td>20130101</td>\n",
       "      <td>PRCP</td>\n",
       "      <td>0</td>\n",
       "    </tr>\n",
       "    <tr>\n",
       "      <th>1</th>\n",
       "      <td>US1FLSL0019</td>\n",
       "      <td>20130101</td>\n",
       "      <td>SNOW</td>\n",
       "      <td>0</td>\n",
       "    </tr>\n",
       "    <tr>\n",
       "      <th>2</th>\n",
       "      <td>US1TXTV0133</td>\n",
       "      <td>20130101</td>\n",
       "      <td>PRCP</td>\n",
       "      <td>30</td>\n",
       "    </tr>\n",
       "    <tr>\n",
       "      <th>3</th>\n",
       "      <td>USC00178998</td>\n",
       "      <td>20130101</td>\n",
       "      <td>TMAX</td>\n",
       "      <td>-22</td>\n",
       "    </tr>\n",
       "    <tr>\n",
       "      <th>4</th>\n",
       "      <td>USC00178998</td>\n",
       "      <td>20130101</td>\n",
       "      <td>TMIN</td>\n",
       "      <td>-117</td>\n",
       "    </tr>\n",
       "  </tbody>\n",
       "</table>\n",
       "</div>"
      ],
      "text/plain": [
       "       station      date metric value\n",
       "0  US1FLSL0019  20130101   PRCP     0\n",
       "1  US1FLSL0019  20130101   SNOW     0\n",
       "2  US1TXTV0133  20130101   PRCP    30\n",
       "3  USC00178998  20130101   TMAX   -22\n",
       "4  USC00178998  20130101   TMIN  -117"
      ]
     },
     "execution_count": 8,
     "metadata": {},
     "output_type": "execute_result"
    }
   ],
   "source": [
    "import pandas as pd\n",
    "\n",
    "lines = sc.textFile(\"weather/2013.csv\")\n",
    "weather = lines.map(lambda line: line.split(',')) \\\n",
    "               .map(lambda row: [row[0], row[1], row[2], row[3]])  # schema: station, date, metric type, value\n",
    "weather.cache()\n",
    "pd.DataFrame(weather.take(5), columns = ['station', 'date', 'metric', 'value'])"
   ]
  },
  {
   "cell_type": "markdown",
   "metadata": {},
   "source": [
    "Count the number of unique weather stations in this RDD"
   ]
  },
  {
   "cell_type": "code",
   "execution_count": 9,
   "metadata": {
    "collapsed": false
   },
   "outputs": [
    {
     "name": "stdout",
     "output_type": "stream",
     "text": [
      "38041\n"
     ]
    }
   ],
   "source": [
    "print weather.map(lambda x: x[0]).distinct().count()"
   ]
  },
  {
   "cell_type": "markdown",
   "metadata": {},
   "source": [
    "Calculate the number of readings for each metric. Which are the top-10 most popular metrics?"
   ]
  },
  {
   "cell_type": "code",
   "execution_count": 10,
   "metadata": {
    "collapsed": false
   },
   "outputs": [
    {
     "data": {
      "text/html": [
       "<div style=\"max-height:1000px;max-width:1500px;overflow:auto;\">\n",
       "<table border=\"1\" class=\"dataframe\">\n",
       "  <thead>\n",
       "    <tr style=\"text-align: right;\">\n",
       "      <th></th>\n",
       "      <th>count</th>\n",
       "    </tr>\n",
       "    <tr>\n",
       "      <th>metric</th>\n",
       "      <th></th>\n",
       "    </tr>\n",
       "  </thead>\n",
       "  <tbody>\n",
       "    <tr>\n",
       "      <th>PRCP</th>\n",
       "      <td>9610910</td>\n",
       "    </tr>\n",
       "    <tr>\n",
       "      <th>SNOW</th>\n",
       "      <td>4347479</td>\n",
       "    </tr>\n",
       "    <tr>\n",
       "      <th>TMAX</th>\n",
       "      <td>4218043</td>\n",
       "    </tr>\n",
       "    <tr>\n",
       "      <th>TMIN</th>\n",
       "      <td>4217620</td>\n",
       "    </tr>\n",
       "    <tr>\n",
       "      <th>SNWD</th>\n",
       "      <td>2403494</td>\n",
       "    </tr>\n",
       "    <tr>\n",
       "      <th>TOBS</th>\n",
       "      <td>1934418</td>\n",
       "    </tr>\n",
       "    <tr>\n",
       "      <th>AWND</th>\n",
       "      <td>356119</td>\n",
       "    </tr>\n",
       "    <tr>\n",
       "      <th>WESD</th>\n",
       "      <td>346821</td>\n",
       "    </tr>\n",
       "    <tr>\n",
       "      <th>WSF2</th>\n",
       "      <td>343373</td>\n",
       "    </tr>\n",
       "    <tr>\n",
       "      <th>WDF2</th>\n",
       "      <td>343353</td>\n",
       "    </tr>\n",
       "  </tbody>\n",
       "</table>\n",
       "</div>"
      ],
      "text/plain": [
       "          count\n",
       "metric         \n",
       "PRCP    9610910\n",
       "SNOW    4347479\n",
       "TMAX    4218043\n",
       "TMIN    4217620\n",
       "SNWD    2403494\n",
       "TOBS    1934418\n",
       "AWND     356119\n",
       "WESD     346821\n",
       "WSF2     343373\n",
       "WDF2     343353"
      ]
     },
     "execution_count": 10,
     "metadata": {},
     "output_type": "execute_result"
    }
   ],
   "source": [
    "countPerMetric = weather.map(lambda x: (x[2],1)).reduceByKey(lambda x,y: x+y)\n",
    "df = pd.DataFrame(countPerMetric.collect(), columns = ['metric', 'count'])\n",
    "df.set_index('metric').sort(columns='count', ascending=False).ix[:10]"
   ]
  },
  {
   "cell_type": "markdown",
   "metadata": {},
   "source": [
    "Compute and plot the maximum daily temparature (TMAX) in San Francisco (weather station USW00023272) during the month of December 2013:\n",
    "* First filter the dataset to the SF weather station and to the TMAX metric\n",
    "* use map() to generate an RDD with a tuple of: (1) day (2) TMAX value for that day\n",
    "* Turn the RDD into a Pandas dataframe and print/plot"
   ]
  },
  {
   "cell_type": "code",
   "execution_count": 11,
   "metadata": {
    "collapsed": false
   },
   "outputs": [
    {
     "name": "stdout",
     "output_type": "stream",
     "text": [
      "      tmax\n",
      "day       \n",
      "1    66.92\n",
      "2    59.00\n",
      "3    55.04\n",
      "4    51.08\n",
      "5    50.00\n",
      "6    51.08\n",
      "7    51.08\n",
      "8    46.04\n",
      "9    51.08\n",
      "10   53.06\n",
      "11   55.94\n",
      "12   57.92\n",
      "13   57.92\n",
      "14   60.98\n",
      "15   59.00\n",
      "16   66.92\n",
      "17   64.04\n",
      "18   55.94\n",
      "19   57.92\n",
      "20   57.92\n",
      "21   57.92\n",
      "22   64.04\n",
      "23   60.98\n",
      "24   66.02\n",
      "25   64.94\n",
      "26   64.94\n",
      "27   60.98\n",
      "28   62.96\n",
      "29   66.02\n",
      "30   60.98\n",
      "31   59.00\n"
     ]
    }
   ],
   "source": [
    "tmax = weather.filter(lambda x: x[2]=='TMAX').filter(lambda x: x[0]=='USW00023272') \\\n",
    "              .filter(lambda x: x[1][:6]=='201312') \\\n",
    "              .map(lambda x: (int(x[1][6:8]), float(x[3])/10.0*1.8+32))\n",
    "pdf = pd.DataFrame(tmax.collect(), columns=['day', 'tmax']).set_index('day')\n",
    "print pdf"
   ]
  },
  {
   "cell_type": "code",
   "execution_count": 12,
   "metadata": {
    "collapsed": false
   },
   "outputs": [
    {
     "data": {
      "text/plain": [
       "<matplotlib.axes._subplots.AxesSubplot at 0x7f33245c7e10>"
      ]
     },
     "execution_count": 12,
     "metadata": {},
     "output_type": "execute_result"
    },
    {
     "data": {
      "image/png": "[encoded data removed]",
      "text/plain": [
       "<matplotlib.figure.Figure at 0x7f332443fb50>"
      ]
     },
     "metadata": {},
     "output_type": "display_data"
    }
   ],
   "source": [
    "pdf.plot(kind='line', legend=False, figsize=(12,5))"
   ]
  }
 ],
 "metadata": {
  "kernelspec": {
   "display_name": "Python 2",
   "language": "python",
   "name": "python2"
  },
  "language_info": {
   "codemirror_mode": {
    "name": "ipython",
    "version": 2
   },
   "file_extension": ".py",
   "mimetype": "text/x-python",
   "name": "python",
   "nbconvert_exporter": "python",
   "pygments_lexer": "ipython2",
   "version": "2.7.9"
  }
 },
 "nbformat": 4,
 "nbformat_minor": 0
}
