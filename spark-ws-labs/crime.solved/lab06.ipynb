{
 "cells": [
  {
   "cell_type": "markdown",
   "metadata": {},
   "source": [
    "# Lab 6 : DataFrames and HiveContext"
   ]
  },
  {
   "cell_type": "markdown",
   "metadata": {},
   "source": [
    "Let's work with Spark SQL and DataFrames. As always, first you setup a spark context."
   ]
  },
  {
   "cell_type": "code",
   "execution_count": 1,
   "metadata": {
    "collapsed": false
   },
   "outputs": [],
   "source": [
    "# Set up Spark Context\n",
    "from pyspark import SparkContext, SparkConf\n",
    "\n",
    "SparkContext.setSystemProperty('spark.executor.memory', '2g')\n",
    "conf = SparkConf()\n",
    "conf.set('spark.executor.instances', 15)\n",
    "sc = SparkContext('yarn-client', 'Spark-lab6', conf=conf)"
   ]
  },
  {
   "cell_type": "markdown",
   "metadata": {},
   "source": [
    "Now use Spark SQL to create a HiveContext:"
   ]
  },
  {
   "cell_type": "code",
   "execution_count": 2,
   "metadata": {
    "collapsed": false
   },
   "outputs": [],
   "source": [
    "from pyspark.sql import HiveContext\n",
    "hc = HiveContext(sc)"
   ]
  },
  {
   "cell_type": "markdown",
   "metadata": {},
   "source": [
    "Use HiveContext's sql() function to show all HIVE databases. \n",
    "\n",
    "To display the results of the Spark DataFrame in the Jupyter notebook, you can use one of the following:\n",
    "* show(n): displays n rows from the dataframe as text\n",
    "* toPandas(): translates the dataframe into a local Pandas DataFrame (assuming it's not too large). Then you can print the dataframe"
   ]
  },
  {
   "cell_type": "code",
   "execution_count": 3,
   "metadata": {
    "collapsed": false
   },
   "outputs": [
    {
     "data": {
      "text/html": [
       "<div style=\"max-height:1000px;max-width:1500px;overflow:auto;\">\n",
       "<table border=\"1\" class=\"dataframe\">\n",
       "  <thead>\n",
       "    <tr style=\"text-align: right;\">\n",
       "      <th></th>\n",
       "      <th>result</th>\n",
       "    </tr>\n",
       "  </thead>\n",
       "  <tbody>\n",
       "    <tr>\n",
       "      <th>0</th>\n",
       "      <td>default</td>\n",
       "    </tr>\n",
       "    <tr>\n",
       "      <th>1</th>\n",
       "      <td>demo</td>\n",
       "    </tr>\n",
       "  </tbody>\n",
       "</table>\n",
       "</div>"
      ],
      "text/plain": [
       "    result\n",
       "0  default\n",
       "1     demo"
      ]
     },
     "execution_count": 3,
     "metadata": {},
     "output_type": "execute_result"
    }
   ],
   "source": [
    "hc.sql(\"show databases\").toPandas()"
   ]
  },
  {
   "cell_type": "markdown",
   "metadata": {},
   "source": [
    "Switch HIVE to use the \"demo\" database, again using the sql() function:"
   ]
  },
  {
   "cell_type": "code",
   "execution_count": 4,
   "metadata": {
    "collapsed": false
   },
   "outputs": [
    {
     "data": {
      "text/plain": [
       "DataFrame[result: string]"
      ]
     },
     "execution_count": 4,
     "metadata": {},
     "output_type": "execute_result"
    }
   ],
   "source": [
    "hc.sql(\"use demo\")"
   ]
  },
  {
   "cell_type": "markdown",
   "metadata": {},
   "source": [
    "List all tables in the demo database:"
   ]
  },
  {
   "cell_type": "code",
   "execution_count": 5,
   "metadata": {
    "collapsed": false
   },
   "outputs": [
    {
     "data": {
      "text/html": [
       "<div style=\"max-height:1000px;max-width:1500px;overflow:auto;\">\n",
       "<table border=\"1\" class=\"dataframe\">\n",
       "  <thead>\n",
       "    <tr style=\"text-align: right;\">\n",
       "      <th></th>\n",
       "      <th>tableName</th>\n",
       "      <th>isTemporary</th>\n",
       "    </tr>\n",
       "  </thead>\n",
       "  <tbody>\n",
       "    <tr>\n",
       "      <th>0</th>\n",
       "      <td>airports</td>\n",
       "      <td>False</td>\n",
       "    </tr>\n",
       "    <tr>\n",
       "      <th>1</th>\n",
       "      <td>airports_raw</td>\n",
       "      <td>False</td>\n",
       "    </tr>\n",
       "    <tr>\n",
       "      <th>2</th>\n",
       "      <td>cpi</td>\n",
       "      <td>False</td>\n",
       "    </tr>\n",
       "    <tr>\n",
       "      <th>3</th>\n",
       "      <td>cpi_raw</td>\n",
       "      <td>False</td>\n",
       "    </tr>\n",
       "    <tr>\n",
       "      <th>4</th>\n",
       "      <td>crimes</td>\n",
       "      <td>False</td>\n",
       "    </tr>\n",
       "    <tr>\n",
       "      <th>5</th>\n",
       "      <td>crimes_raw</td>\n",
       "      <td>False</td>\n",
       "    </tr>\n",
       "    <tr>\n",
       "      <th>6</th>\n",
       "      <td>crimes_wn</td>\n",
       "      <td>False</td>\n",
       "    </tr>\n",
       "    <tr>\n",
       "      <th>7</th>\n",
       "      <td>flights</td>\n",
       "      <td>False</td>\n",
       "    </tr>\n",
       "    <tr>\n",
       "      <th>8</th>\n",
       "      <td>flights_raw</td>\n",
       "      <td>False</td>\n",
       "    </tr>\n",
       "    <tr>\n",
       "      <th>9</th>\n",
       "      <td>fm</td>\n",
       "      <td>False</td>\n",
       "    </tr>\n",
       "    <tr>\n",
       "      <th>10</th>\n",
       "      <td>hotel_reviews</td>\n",
       "      <td>False</td>\n",
       "    </tr>\n",
       "    <tr>\n",
       "      <th>11</th>\n",
       "      <td>hotel_reviews_raw</td>\n",
       "      <td>False</td>\n",
       "    </tr>\n",
       "    <tr>\n",
       "      <th>12</th>\n",
       "      <td>movie_scripts</td>\n",
       "      <td>False</td>\n",
       "    </tr>\n",
       "    <tr>\n",
       "      <th>13</th>\n",
       "      <td>rental</td>\n",
       "      <td>False</td>\n",
       "    </tr>\n",
       "    <tr>\n",
       "      <th>14</th>\n",
       "      <td>rental_raw</td>\n",
       "      <td>False</td>\n",
       "    </tr>\n",
       "    <tr>\n",
       "      <th>15</th>\n",
       "      <td>sentiment_words</td>\n",
       "      <td>False</td>\n",
       "    </tr>\n",
       "    <tr>\n",
       "      <th>16</th>\n",
       "      <td>sf311</td>\n",
       "      <td>False</td>\n",
       "    </tr>\n",
       "    <tr>\n",
       "      <th>17</th>\n",
       "      <td>sf311_raw</td>\n",
       "      <td>False</td>\n",
       "    </tr>\n",
       "    <tr>\n",
       "      <th>18</th>\n",
       "      <td>sf_neighborhoods</td>\n",
       "      <td>False</td>\n",
       "    </tr>\n",
       "    <tr>\n",
       "      <th>19</th>\n",
       "      <td>stations</td>\n",
       "      <td>False</td>\n",
       "    </tr>\n",
       "    <tr>\n",
       "      <th>20</th>\n",
       "      <td>stations_neighborhoods</td>\n",
       "      <td>False</td>\n",
       "    </tr>\n",
       "    <tr>\n",
       "      <th>21</th>\n",
       "      <td>tv_scripts</td>\n",
       "      <td>False</td>\n",
       "    </tr>\n",
       "    <tr>\n",
       "      <th>22</th>\n",
       "      <td>tweets</td>\n",
       "      <td>False</td>\n",
       "    </tr>\n",
       "    <tr>\n",
       "      <th>23</th>\n",
       "      <td>tweets_raw</td>\n",
       "      <td>False</td>\n",
       "    </tr>\n",
       "    <tr>\n",
       "      <th>24</th>\n",
       "      <td>weather</td>\n",
       "      <td>False</td>\n",
       "    </tr>\n",
       "    <tr>\n",
       "      <th>25</th>\n",
       "      <td>weather_raw</td>\n",
       "      <td>False</td>\n",
       "    </tr>\n",
       "  </tbody>\n",
       "</table>\n",
       "</div>"
      ],
      "text/plain": [
       "                 tableName isTemporary\n",
       "0                 airports       False\n",
       "1             airports_raw       False\n",
       "2                      cpi       False\n",
       "3                  cpi_raw       False\n",
       "4                   crimes       False\n",
       "5               crimes_raw       False\n",
       "6                crimes_wn       False\n",
       "7                  flights       False\n",
       "8              flights_raw       False\n",
       "9                       fm       False\n",
       "10           hotel_reviews       False\n",
       "11       hotel_reviews_raw       False\n",
       "12           movie_scripts       False\n",
       "13                  rental       False\n",
       "14              rental_raw       False\n",
       "15         sentiment_words       False\n",
       "16                   sf311       False\n",
       "17               sf311_raw       False\n",
       "18        sf_neighborhoods       False\n",
       "19                stations       False\n",
       "20  stations_neighborhoods       False\n",
       "21              tv_scripts       False\n",
       "22                  tweets       False\n",
       "23              tweets_raw       False\n",
       "24                 weather       False\n",
       "25             weather_raw       False"
      ]
     },
     "execution_count": 5,
     "metadata": {},
     "output_type": "execute_result"
    }
   ],
   "source": [
    "hc.sql(\"show tables\").toPandas()"
   ]
  },
  {
   "cell_type": "markdown",
   "metadata": {},
   "source": [
    "Count the number of crime reports in the \"crimes\" table:\n",
    "* use sql() to count the number of crimes\n",
    "* use collect() to get the result. Extract the number of crimes itself from the resulting object\n",
    "* Print the number of crimes"
   ]
  },
  {
   "cell_type": "code",
   "execution_count": 6,
   "metadata": {
    "collapsed": false
   },
   "outputs": [
    {
     "name": "stdout",
     "output_type": "stream",
     "text": [
      "number of crimes reported =  1750133\n"
     ]
    }
   ],
   "source": [
    "numDF = hc.sql(\"SELECT COUNT(*) FROM crimes\")\n",
    "num = numDF.collect()[0][0]\n",
    "print \"number of crimes reported = \", num"
   ]
  },
  {
   "cell_type": "markdown",
   "metadata": {},
   "source": [
    "Use the \"DESCRIBE\" SQL command to show the details about the crimes table:"
   ]
  },
  {
   "cell_type": "code",
   "execution_count": 7,
   "metadata": {
    "collapsed": false
   },
   "outputs": [
    {
     "name": "stdout",
     "output_type": "stream",
     "text": [
      "+-----------+---------+-------+\n",
      "|   col_name|data_type|comment|\n",
      "+-----------+---------+-------+\n",
      "| incidentid|   string|   null|\n",
      "|   category|   string|   null|\n",
      "|description|   string|   null|\n",
      "|  dayofweek|   string|   null|\n",
      "|   date_str|   string|   null|\n",
      "|       time|   string|   null|\n",
      "|   district|   string|   null|\n",
      "| resolution|   string|   null|\n",
      "|    address|   string|   null|\n",
      "|  longitude|   string|   null|\n",
      "|   latitude|   string|   null|\n",
      "|   location|   string|   null|\n",
      "|       pdid|   string|   null|\n",
      "+-----------+---------+-------+\n",
      "\n"
     ]
    }
   ],
   "source": [
    "hc.sql(\"DESCRIBE crimes\").show()"
   ]
  },
  {
   "cell_type": "markdown",
   "metadata": {
    "collapsed": false
   },
   "source": [
    "Use sql() to show the first 5 rows in the crimes dataset"
   ]
  },
  {
   "cell_type": "code",
   "execution_count": 8,
   "metadata": {
    "collapsed": false
   },
   "outputs": [
    {
     "data": {
      "text/html": [
       "<div style=\"max-height:1000px;max-width:1500px;overflow:auto;\">\n",
       "<table border=\"1\" class=\"dataframe\">\n",
       "  <thead>\n",
       "    <tr style=\"text-align: right;\">\n",
       "      <th></th>\n",
       "      <th>incidentid</th>\n",
       "      <th>category</th>\n",
       "      <th>description</th>\n",
       "      <th>dayofweek</th>\n",
       "      <th>date_str</th>\n",
       "      <th>time</th>\n",
       "      <th>district</th>\n",
       "      <th>resolution</th>\n",
       "      <th>address</th>\n",
       "      <th>longitude</th>\n",
       "      <th>latitude</th>\n",
       "      <th>location</th>\n",
       "      <th>pdid</th>\n",
       "    </tr>\n",
       "  </thead>\n",
       "  <tbody>\n",
       "    <tr>\n",
       "      <th>0</th>\n",
       "      <td>150331521</td>\n",
       "      <td>LARCENY/THEFT</td>\n",
       "      <td>GRAND THEFT FROM A BUILDING</td>\n",
       "      <td>Wednesday</td>\n",
       "      <td>04/22/2015</td>\n",
       "      <td>18:00</td>\n",
       "      <td>BAYVIEW</td>\n",
       "      <td>NONE</td>\n",
       "      <td>2000 Block of EVANS AV</td>\n",
       "      <td>-122.396315619126</td>\n",
       "      <td>37.7478113603031</td>\n",
       "      <td>(37.7478113603031, -122.396315619126)</td>\n",
       "      <td>15033152106304</td>\n",
       "    </tr>\n",
       "    <tr>\n",
       "      <th>1</th>\n",
       "      <td>150341605</td>\n",
       "      <td>ASSAULT</td>\n",
       "      <td>ATTEMPTED SIMPLE ASSAULT</td>\n",
       "      <td>Sunday</td>\n",
       "      <td>04/19/2015</td>\n",
       "      <td>12:15</td>\n",
       "      <td>CENTRAL</td>\n",
       "      <td>NONE</td>\n",
       "      <td>800 Block of WASHINGTON ST</td>\n",
       "      <td>-122.40672716771</td>\n",
       "      <td>37.7950566945259</td>\n",
       "      <td>(37.7950566945259, -122.40672716771)</td>\n",
       "      <td>15034160504114</td>\n",
       "    </tr>\n",
       "    <tr>\n",
       "      <th>2</th>\n",
       "      <td>150341605</td>\n",
       "      <td>ASSAULT</td>\n",
       "      <td>THREATS AGAINST LIFE</td>\n",
       "      <td>Sunday</td>\n",
       "      <td>04/19/2015</td>\n",
       "      <td>12:15</td>\n",
       "      <td>CENTRAL</td>\n",
       "      <td>NONE</td>\n",
       "      <td>800 Block of WASHINGTON ST</td>\n",
       "      <td>-122.40672716771</td>\n",
       "      <td>37.7950566945259</td>\n",
       "      <td>(37.7950566945259, -122.40672716771)</td>\n",
       "      <td>15034160519057</td>\n",
       "    </tr>\n",
       "    <tr>\n",
       "      <th>3</th>\n",
       "      <td>150341605</td>\n",
       "      <td>OTHER OFFENSES</td>\n",
       "      <td>CRUELTY TO ANIMALS</td>\n",
       "      <td>Sunday</td>\n",
       "      <td>04/19/2015</td>\n",
       "      <td>12:15</td>\n",
       "      <td>CENTRAL</td>\n",
       "      <td>NONE</td>\n",
       "      <td>800 Block of WASHINGTON ST</td>\n",
       "      <td>-122.40672716771</td>\n",
       "      <td>37.7950566945259</td>\n",
       "      <td>(37.7950566945259, -122.40672716771)</td>\n",
       "      <td>15034160528010</td>\n",
       "    </tr>\n",
       "    <tr>\n",
       "      <th>4</th>\n",
       "      <td>150341702</td>\n",
       "      <td>NON-CRIMINAL</td>\n",
       "      <td>AIDED CASE, MENTAL DISTURBED</td>\n",
       "      <td>Sunday</td>\n",
       "      <td>04/19/2015</td>\n",
       "      <td>12:03</td>\n",
       "      <td>MISSION</td>\n",
       "      <td>EXCEPTIONAL CLEARANCE</td>\n",
       "      <td>1100 Block of SOUTH VAN NESS AV</td>\n",
       "      <td>-122.416557578218</td>\n",
       "      <td>37.7547485110398</td>\n",
       "      <td>(37.7547485110398, -122.416557578218)</td>\n",
       "      <td>15034170264020</td>\n",
       "    </tr>\n",
       "  </tbody>\n",
       "</table>\n",
       "</div>"
      ],
      "text/plain": [
       "  incidentid        category                   description  dayofweek  \\\n",
       "0  150331521   LARCENY/THEFT   GRAND THEFT FROM A BUILDING  Wednesday   \n",
       "1  150341605         ASSAULT      ATTEMPTED SIMPLE ASSAULT     Sunday   \n",
       "2  150341605         ASSAULT          THREATS AGAINST LIFE     Sunday   \n",
       "3  150341605  OTHER OFFENSES            CRUELTY TO ANIMALS     Sunday   \n",
       "4  150341702    NON-CRIMINAL  AIDED CASE, MENTAL DISTURBED     Sunday   \n",
       "\n",
       "     date_str   time district             resolution  \\\n",
       "0  04/22/2015  18:00  BAYVIEW                   NONE   \n",
       "1  04/19/2015  12:15  CENTRAL                   NONE   \n",
       "2  04/19/2015  12:15  CENTRAL                   NONE   \n",
       "3  04/19/2015  12:15  CENTRAL                   NONE   \n",
       "4  04/19/2015  12:03  MISSION  EXCEPTIONAL CLEARANCE   \n",
       "\n",
       "                           address          longitude          latitude  \\\n",
       "0           2000 Block of EVANS AV  -122.396315619126  37.7478113603031   \n",
       "1       800 Block of WASHINGTON ST   -122.40672716771  37.7950566945259   \n",
       "2       800 Block of WASHINGTON ST   -122.40672716771  37.7950566945259   \n",
       "3       800 Block of WASHINGTON ST   -122.40672716771  37.7950566945259   \n",
       "4  1100 Block of SOUTH VAN NESS AV  -122.416557578218  37.7547485110398   \n",
       "\n",
       "                                location            pdid  \n",
       "0  (37.7478113603031, -122.396315619126)  15033152106304  \n",
       "1   (37.7950566945259, -122.40672716771)  15034160504114  \n",
       "2   (37.7950566945259, -122.40672716771)  15034160519057  \n",
       "3   (37.7950566945259, -122.40672716771)  15034160528010  \n",
       "4  (37.7547485110398, -122.416557578218)  15034170264020  "
      ]
     },
     "execution_count": 8,
     "metadata": {},
     "output_type": "execute_result"
    }
   ],
   "source": [
    "hc.sql(\"SELECT * FROM crimes LIMIT 5\").toPandas()"
   ]
  }
 ],
 "metadata": {
  "kernelspec": {
   "display_name": "Python 2",
   "language": "python",
   "name": "python2"
  },
  "language_info": {
   "codemirror_mode": {
    "name": "ipython",
    "version": 2
   },
   "file_extension": ".py",
   "mimetype": "text/x-python",
   "name": "python",
   "nbconvert_exporter": "python",
   "pygments_lexer": "ipython2",
   "version": "2.7.9"
  }
 },
 "nbformat": 4,
 "nbformat_minor": 0
}
