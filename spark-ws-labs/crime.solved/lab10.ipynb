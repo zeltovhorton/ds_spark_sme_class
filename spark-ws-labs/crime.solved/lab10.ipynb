{
 "cells": [
  {
   "cell_type": "markdown",
   "metadata": {},
   "source": [
    "# Lab 10: Creating a Feature Matrix using Spark-ML Pipelines"
   ]
  },
  {
   "cell_type": "markdown",
   "metadata": {},
   "source": [
    "As always, create a SparkContext/HiveContext."
   ]
  },
  {
   "cell_type": "code",
   "execution_count": 1,
   "metadata": {
    "collapsed": false
   },
   "outputs": [
    {
     "data": {
      "text/plain": [
       "DataFrame[result: string]"
      ]
     },
     "execution_count": 1,
     "metadata": {},
     "output_type": "execute_result"
    }
   ],
   "source": [
    "# Set up Spark Context\n",
    "from pyspark import SparkContext, SparkConf\n",
    "from pyspark.sql.functions import *\n",
    "\n",
    "SparkContext.setSystemProperty('spark.executor.memory', '2g')\n",
    "conf = SparkConf()\n",
    "conf.set('spark.executor.instances', 15)\n",
    "conf.set('spark.sql.autoBroadcastJoinThreshold', 200*1024*1024)  # 200MB for broadcast join\n",
    "sc = SparkContext('yarn-client', 'Spark-lab10', conf=conf)\n",
    "\n",
    "from pyspark.sql import HiveContext\n",
    "hc = HiveContext(sc)\n",
    "hc.sql(\"use demo\")"
   ]
  },
  {
   "cell_type": "markdown",
   "metadata": {},
   "source": [
    "Load the crimes_wn table that was created in Lab 9 as a Spark Dataframe, and filter the dataset to include all records between 2011 and 2014:"
   ]
  },
  {
   "cell_type": "code",
   "execution_count": 2,
   "metadata": {
    "collapsed": false
   },
   "outputs": [],
   "source": [
    "crimes_wn_all = hc.table('crimes_wn')\n",
    "crimes_wn = (crimes_wn_all.filter(crimes_wn_all.date_str.substr(7,4) >= '2011')\n",
    "                          .filter(crimes_wn_all.date_str.substr(7,4) <= '2014'))"
   ]
  },
  {
   "cell_type": "markdown",
   "metadata": {},
   "source": [
    "Creater a new data frame 'crimes' via feature transformations as follows:\n",
    "- Create features for 'year', 'month' and 'day' from the raw field 'date'\n",
    "- Create the 'hour' feature from the raw field 'time'\n",
    "- Create a feature 'resolved' from the 'resolution' field with a value of 0.0 if \"NONE\" and 1.0 otherwise\n",
    "- Include these other fields: category, district, dayofweek, description, neighborhood"
   ]
  },
  {
   "cell_type": "code",
   "execution_count": 3,
   "metadata": {
    "collapsed": false
   },
   "outputs": [
    {
     "data": {
      "text/html": [
       "<div style=\"max-height:1000px;max-width:1500px;overflow:auto;\">\n",
       "<table border=\"1\" class=\"dataframe\">\n",
       "  <thead>\n",
       "    <tr style=\"text-align: right;\">\n",
       "      <th></th>\n",
       "      <th>year</th>\n",
       "      <th>month</th>\n",
       "      <th>day</th>\n",
       "      <th>hour</th>\n",
       "      <th>resolved</th>\n",
       "      <th>category</th>\n",
       "      <th>district</th>\n",
       "      <th>dayofweek</th>\n",
       "      <th>description</th>\n",
       "      <th>neighborhood</th>\n",
       "    </tr>\n",
       "  </thead>\n",
       "  <tbody>\n",
       "    <tr>\n",
       "      <th>0</th>\n",
       "      <td>2014</td>\n",
       "      <td>11</td>\n",
       "      <td>22</td>\n",
       "      <td>16</td>\n",
       "      <td>0</td>\n",
       "      <td>LARCENY/THEFT</td>\n",
       "      <td>RICHMOND</td>\n",
       "      <td>Saturday</td>\n",
       "      <td>GRAND THEFT FROM LOCKED AUTO</td>\n",
       "      <td>Seacliff</td>\n",
       "    </tr>\n",
       "    <tr>\n",
       "      <th>1</th>\n",
       "      <td>2014</td>\n",
       "      <td>11</td>\n",
       "      <td>21</td>\n",
       "      <td>18</td>\n",
       "      <td>0</td>\n",
       "      <td>LARCENY/THEFT</td>\n",
       "      <td>RICHMOND</td>\n",
       "      <td>Friday</td>\n",
       "      <td>GRAND THEFT FROM UNLOCKED AUTO</td>\n",
       "      <td>Seacliff</td>\n",
       "    </tr>\n",
       "    <tr>\n",
       "      <th>2</th>\n",
       "      <td>2014</td>\n",
       "      <td>10</td>\n",
       "      <td>31</td>\n",
       "      <td>8</td>\n",
       "      <td>0</td>\n",
       "      <td>LARCENY/THEFT</td>\n",
       "      <td>RICHMOND</td>\n",
       "      <td>Friday</td>\n",
       "      <td>GRAND THEFT FROM LOCKED AUTO</td>\n",
       "      <td>Seacliff</td>\n",
       "    </tr>\n",
       "    <tr>\n",
       "      <th>3</th>\n",
       "      <td>2014</td>\n",
       "      <td>3</td>\n",
       "      <td>20</td>\n",
       "      <td>0</td>\n",
       "      <td>0</td>\n",
       "      <td>FRAUD</td>\n",
       "      <td>RICHMOND</td>\n",
       "      <td>Thursday</td>\n",
       "      <td>FRAUDULENT CREDIT APPLICATION</td>\n",
       "      <td>Seacliff</td>\n",
       "    </tr>\n",
       "    <tr>\n",
       "      <th>4</th>\n",
       "      <td>2013</td>\n",
       "      <td>9</td>\n",
       "      <td>6</td>\n",
       "      <td>17</td>\n",
       "      <td>0</td>\n",
       "      <td>LARCENY/THEFT</td>\n",
       "      <td>RICHMOND</td>\n",
       "      <td>Friday</td>\n",
       "      <td>PETTY THEFT FROM LOCKED AUTO</td>\n",
       "      <td>Seacliff</td>\n",
       "    </tr>\n",
       "  </tbody>\n",
       "</table>\n",
       "</div>"
      ],
      "text/plain": [
       "   year  month  day  hour  resolved       category  district dayofweek  \\\n",
       "0  2014     11   22    16         0  LARCENY/THEFT  RICHMOND  Saturday   \n",
       "1  2014     11   21    18         0  LARCENY/THEFT  RICHMOND    Friday   \n",
       "2  2014     10   31     8         0  LARCENY/THEFT  RICHMOND    Friday   \n",
       "3  2014      3   20     0         0          FRAUD  RICHMOND  Thursday   \n",
       "4  2013      9    6    17         0  LARCENY/THEFT  RICHMOND    Friday   \n",
       "\n",
       "                      description neighborhood  \n",
       "0    GRAND THEFT FROM LOCKED AUTO     Seacliff  \n",
       "1  GRAND THEFT FROM UNLOCKED AUTO     Seacliff  \n",
       "2    GRAND THEFT FROM LOCKED AUTO     Seacliff  \n",
       "3   FRAUDULENT CREDIT APPLICATION     Seacliff  \n",
       "4    PETTY THEFT FROM LOCKED AUTO     Seacliff  "
      ]
     },
     "execution_count": 3,
     "metadata": {},
     "output_type": "execute_result"
    }
   ],
   "source": [
    "crimes = (crimes_wn.withColumn('year', crimes_wn.date_str.substr(7,4).astype('int'))\n",
    "                   .withColumn('month', crimes_wn.date_str.substr(1,2).astype('int'))\n",
    "                   .withColumn('day', crimes_wn.date_str.substr(4,2).astype('int'))\n",
    "                   .withColumn('hour', crimes_wn.time.substr(1,2).astype('int'))\n",
    "                   .withColumn('resolved', when(crimes_wn.resolution == 'NONE', 0.0).otherwise(1.0))\n",
    "                   .select('year', 'month', 'day', 'hour', 'resolved', 'category', 'district', 'dayofweek', \n",
    "                           'description', 'neighborhood'))\n",
    "\n",
    "crimes.cache()\n",
    "crimes.limit(5).toPandas()"
   ]
  },
  {
   "cell_type": "markdown",
   "metadata": {},
   "source": [
    "Now create the weather dataframe that includes the precipitation, tmin and tmax for San Francisco for each day in the years 2011-2014"
   ]
  },
  {
   "cell_type": "code",
   "execution_count": 4,
   "metadata": {
    "collapsed": false
   },
   "outputs": [
    {
     "data": {
      "text/html": [
       "<div style=\"max-height:1000px;max-width:1500px;overflow:auto;\">\n",
       "<table border=\"1\" class=\"dataframe\">\n",
       "  <thead>\n",
       "    <tr style=\"text-align: right;\">\n",
       "      <th></th>\n",
       "      <th>year</th>\n",
       "      <th>month</th>\n",
       "      <th>day</th>\n",
       "      <th>prcp</th>\n",
       "      <th>tmin</th>\n",
       "      <th>tmax</th>\n",
       "    </tr>\n",
       "  </thead>\n",
       "  <tbody>\n",
       "    <tr>\n",
       "      <th>0</th>\n",
       "      <td>2011</td>\n",
       "      <td>3</td>\n",
       "      <td>30</td>\n",
       "      <td>0</td>\n",
       "      <td>111</td>\n",
       "      <td>278</td>\n",
       "    </tr>\n",
       "    <tr>\n",
       "      <th>1</th>\n",
       "      <td>2011</td>\n",
       "      <td>12</td>\n",
       "      <td>21</td>\n",
       "      <td>0</td>\n",
       "      <td>67</td>\n",
       "      <td>150</td>\n",
       "    </tr>\n",
       "    <tr>\n",
       "      <th>2</th>\n",
       "      <td>2012</td>\n",
       "      <td>1</td>\n",
       "      <td>31</td>\n",
       "      <td>0</td>\n",
       "      <td>83</td>\n",
       "      <td>139</td>\n",
       "    </tr>\n",
       "    <tr>\n",
       "      <th>3</th>\n",
       "      <td>2012</td>\n",
       "      <td>9</td>\n",
       "      <td>6</td>\n",
       "      <td>0</td>\n",
       "      <td>122</td>\n",
       "      <td>172</td>\n",
       "    </tr>\n",
       "    <tr>\n",
       "      <th>4</th>\n",
       "      <td>2012</td>\n",
       "      <td>10</td>\n",
       "      <td>22</td>\n",
       "      <td>206</td>\n",
       "      <td>106</td>\n",
       "      <td>161</td>\n",
       "    </tr>\n",
       "  </tbody>\n",
       "</table>\n",
       "</div>"
      ],
      "text/plain": [
       "   year  month  day  prcp  tmin  tmax\n",
       "0  2011      3   30     0   111   278\n",
       "1  2011     12   21     0    67   150\n",
       "2  2012      1   31     0    83   139\n",
       "3  2012      9    6     0   122   172\n",
       "4  2012     10   22   206   106   161"
      ]
     },
     "execution_count": 4,
     "metadata": {},
     "output_type": "execute_result"
    }
   ],
   "source": [
    "weather = hc.sql(\"select * from weather WHERE year>=2011 and year<=2014 and station == 'USW00023272'\").cache()\n",
    "prcp = weather.filter(weather.metric=='PRCP').withColumnRenamed('value', 'prcp').alias(\"prcp\")\n",
    "tmin = weather.filter(weather.metric=='TMIN').withColumnRenamed('value', 'tmin').alias(\"tmin\")\n",
    "tmax = weather.filter(weather.metric=='TMAX').withColumnRenamed('value', 'tmax').alias(\"tmax\")\n",
    "\n",
    "wdata = prcp.join(tmin, 'date_str').join(tmax, 'date_str') \\\n",
    "            .select(col('prcp.year'), col('prcp.month'), col('prcp.day'), 'prcp', 'tmin', 'tmax').cache()\n",
    "wdata.limit(5).toPandas()"
   ]
  },
  {
   "cell_type": "markdown",
   "metadata": {},
   "source": [
    "Join the resulting weather dataset with the crimes dataset, using the join key (year,month,day). \n",
    "* create a dataframe \"joined\" that joins the two dataframes (crimes and weather)\n",
    "* In the joined dataset the year, month and day fields appear twice. Create a python list \"keep\" that includes the names of the fields that we would like to keep from the joined result, then create the \"fm\" dataframe by selecting those fields only."
   ]
  },
  {
   "cell_type": "code",
   "execution_count": 5,
   "metadata": {
    "collapsed": false
   },
   "outputs": [
    {
     "data": {
      "text/html": [
       "<div style=\"max-height:1000px;max-width:1500px;overflow:auto;\">\n",
       "<table border=\"1\" class=\"dataframe\">\n",
       "  <thead>\n",
       "    <tr style=\"text-align: right;\">\n",
       "      <th></th>\n",
       "      <th>year</th>\n",
       "      <th>month</th>\n",
       "      <th>day</th>\n",
       "      <th>prcp</th>\n",
       "      <th>tmin</th>\n",
       "      <th>tmax</th>\n",
       "      <th>hour</th>\n",
       "      <th>resolved</th>\n",
       "      <th>category</th>\n",
       "      <th>district</th>\n",
       "      <th>dayofweek</th>\n",
       "      <th>description</th>\n",
       "      <th>neighborhood</th>\n",
       "    </tr>\n",
       "  </thead>\n",
       "  <tbody>\n",
       "    <tr>\n",
       "      <th>0</th>\n",
       "      <td>2011</td>\n",
       "      <td>2</td>\n",
       "      <td>26</td>\n",
       "      <td>0</td>\n",
       "      <td>28</td>\n",
       "      <td>89</td>\n",
       "      <td>15</td>\n",
       "      <td>1</td>\n",
       "      <td>FRAUD</td>\n",
       "      <td>SOUTHERN</td>\n",
       "      <td>Saturday</td>\n",
       "      <td>TRICK AND DEVICE, PETTY THEFT</td>\n",
       "      <td>Financial District</td>\n",
       "    </tr>\n",
       "    <tr>\n",
       "      <th>1</th>\n",
       "      <td>2011</td>\n",
       "      <td>2</td>\n",
       "      <td>26</td>\n",
       "      <td>0</td>\n",
       "      <td>28</td>\n",
       "      <td>89</td>\n",
       "      <td>13</td>\n",
       "      <td>1</td>\n",
       "      <td>ASSAULT</td>\n",
       "      <td>BAYVIEW</td>\n",
       "      <td>Saturday</td>\n",
       "      <td>INFLICT INJURY ON COHABITEE</td>\n",
       "      <td>Bayview</td>\n",
       "    </tr>\n",
       "    <tr>\n",
       "      <th>2</th>\n",
       "      <td>2011</td>\n",
       "      <td>2</td>\n",
       "      <td>26</td>\n",
       "      <td>0</td>\n",
       "      <td>28</td>\n",
       "      <td>89</td>\n",
       "      <td>10</td>\n",
       "      <td>0</td>\n",
       "      <td>LARCENY/THEFT</td>\n",
       "      <td>NORTHERN</td>\n",
       "      <td>Saturday</td>\n",
       "      <td>GRAND THEFT FROM LOCKED AUTO</td>\n",
       "      <td>Pacific Heights</td>\n",
       "    </tr>\n",
       "    <tr>\n",
       "      <th>3</th>\n",
       "      <td>2011</td>\n",
       "      <td>2</td>\n",
       "      <td>26</td>\n",
       "      <td>0</td>\n",
       "      <td>28</td>\n",
       "      <td>89</td>\n",
       "      <td>22</td>\n",
       "      <td>0</td>\n",
       "      <td>SUSPICIOUS OCC</td>\n",
       "      <td>SOUTHERN</td>\n",
       "      <td>Saturday</td>\n",
       "      <td>SUSPICIOUS OCCURRENCE</td>\n",
       "      <td>South of Market</td>\n",
       "    </tr>\n",
       "    <tr>\n",
       "      <th>4</th>\n",
       "      <td>2011</td>\n",
       "      <td>2</td>\n",
       "      <td>26</td>\n",
       "      <td>0</td>\n",
       "      <td>28</td>\n",
       "      <td>89</td>\n",
       "      <td>17</td>\n",
       "      <td>0</td>\n",
       "      <td>SUSPICIOUS OCC</td>\n",
       "      <td>BAYVIEW</td>\n",
       "      <td>Saturday</td>\n",
       "      <td>INVESTIGATIVE DETENTION</td>\n",
       "      <td>Potrero Hill</td>\n",
       "    </tr>\n",
       "  </tbody>\n",
       "</table>\n",
       "</div>"
      ],
      "text/plain": [
       "   year  month  day  prcp  tmin  tmax  hour  resolved        category  \\\n",
       "0  2011      2   26     0    28    89    15         1           FRAUD   \n",
       "1  2011      2   26     0    28    89    13         1         ASSAULT   \n",
       "2  2011      2   26     0    28    89    10         0   LARCENY/THEFT   \n",
       "3  2011      2   26     0    28    89    22         0  SUSPICIOUS OCC   \n",
       "4  2011      2   26     0    28    89    17         0  SUSPICIOUS OCC   \n",
       "\n",
       "   district dayofweek                    description        neighborhood  \n",
       "0  SOUTHERN  Saturday  TRICK AND DEVICE, PETTY THEFT  Financial District  \n",
       "1   BAYVIEW  Saturday    INFLICT INJURY ON COHABITEE             Bayview  \n",
       "2  NORTHERN  Saturday   GRAND THEFT FROM LOCKED AUTO     Pacific Heights  \n",
       "3  SOUTHERN  Saturday          SUSPICIOUS OCCURRENCE     South of Market  \n",
       "4   BAYVIEW  Saturday        INVESTIGATIVE DETENTION        Potrero Hill  "
      ]
     },
     "execution_count": 5,
     "metadata": {},
     "output_type": "execute_result"
    }
   ],
   "source": [
    "joined = wdata.join(crimes, (wdata.month==crimes.month) & (wdata.day==crimes.day) & (wdata.year==crimes.year), 'inner')\n",
    "\n",
    "keep = ([wdata[c] for c in wdata.columns] + \n",
    "        [crimes[c] for c in crimes.columns if c not in ['year', 'month', 'day']])\n",
    "fm = joined.select(*keep).cache()\n",
    "\n",
    "fm.limit(5).toPandas()"
   ]
  },
  {
   "cell_type": "markdown",
   "metadata": {
    "collapsed": true
   },
   "source": [
    "Store this feature matrix into HDFS, so that you can use it in the next lab. This is not strictly necessary when using Spark since a DataFrame can be used sequentially for the next step, but useful in our case since our application is split into individual labs.\n",
    "\n",
    "Use the DataFrames save() function with the ORC data source. "
   ]
  },
  {
   "cell_type": "code",
   "execution_count": 6,
   "metadata": {
    "collapsed": false
   },
   "outputs": [],
   "source": [
    "fm.write.format(\"orc\").save(\"/tmp/fm\", mode=\"overwrite\")"
   ]
  }
 ],
 "metadata": {
  "kernelspec": {
   "display_name": "Python 2",
   "language": "python",
   "name": "python2"
  },
  "language_info": {
   "codemirror_mode": {
    "name": "ipython",
    "version": 2
   },
   "file_extension": ".py",
   "mimetype": "text/x-python",
   "name": "python",
   "nbconvert_exporter": "python",
   "pygments_lexer": "ipython2",
   "version": "2.7.9"
  }
 },
 "nbformat": 4,
 "nbformat_minor": 0
}
